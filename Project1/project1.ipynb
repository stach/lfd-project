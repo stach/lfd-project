{
 "cells": [
  {
   "cell_type": "markdown",
   "metadata": {},
   "source": [
    "# Project 1"
   ]
  },
  {
   "cell_type": "markdown",
   "metadata": {},
   "source": [
    "## Imports, etc."
   ]
  },
  {
   "cell_type": "code",
   "execution_count": 6,
   "metadata": {},
   "outputs": [],
   "source": [
    "# Install tqdm and add it to the environment (pip install tqdm). It is not necessary. However, it will give us a nice progress bar!\n",
    "import tqdm"
   ]
  },
  {
   "cell_type": "code",
   "execution_count": 7,
   "metadata": {},
   "outputs": [],
   "source": [
    "from quantumsolver import fewnucleonEmulator\n",
    "import numpy as np\n",
    "import matplotlib.pyplot as plt\n",
    "import matplotlib.lines as mlines\n",
    "from scipy import stats\n",
    "import emcee\n",
    "import corner"
   ]
  },
  {
   "cell_type": "markdown",
   "metadata": {},
   "source": [
    "## Task 1"
   ]
  },
  {
   "cell_type": "markdown",
   "metadata": {},
   "source": [
    "### Define necessary constants, expermental data, etc."
   ]
  },
  {
   "cell_type": "code",
   "execution_count": 8,
   "metadata": {},
   "outputs": [],
   "source": [
    "# Define the size of our mesh\n",
    "NcD = 256 #256\n",
    "NcE = 256 #256\n",
    "\n",
    "# Other constants\n",
    "k=3\n",
    "cbar=1\n",
    "Q=0.33"
   ]
  },
  {
   "cell_type": "code",
   "execution_count": 9,
   "metadata": {},
   "outputs": [],
   "source": [
    "# Experimental data: My\n",
    "my_E3H=-8.482\n",
    "my_E4He=-28.296\n",
    "my_Rp4He=1.4552\n",
    "my_fT3H=1129.6\n",
    "\n",
    "# Experimental data: Sigma\n",
    "sigma_E3H=0.015\n",
    "sigma_E4He=0.005\n",
    "sigma_Rp4He=0.0062\n",
    "sigma_fT3H=3"
   ]
  },
  {
   "cell_type": "markdown",
   "metadata": {},
   "source": [
    "### Evaluate with quantum solver"
   ]
  },
  {
   "cell_type": "code",
   "execution_count": 10,
   "metadata": {},
   "outputs": [],
   "source": [
    "# Create a 2-dimensional grid\n",
    "# cD el [-2.5, 2.5]\n",
    "# cE el [-1, 1]\n",
    "cD = np.linspace(start=-2.5, stop=2.5, num=NcD)\n",
    "cE = np.linspace(start=-1, stop=1, num=NcE)\n",
    "cD_eval, cE_eval = np.meshgrid(cD,cE)\n",
    "\n",
    "# Vectorized version of the fewnucleonEmulator\n",
    "vfewnucleonEmulator = np.vectorize(fewnucleonEmulator)\n",
    "E4He_eval, Rp4He_eval, Rch4He_eval, E3He_eval, E3H_eval, E1A3H_eval, fT3H_eval = vfewnucleonEmulator(cD_eval, cE_eval)"
   ]
  },
  {
   "cell_type": "markdown",
   "metadata": {},
   "source": [
    "### Define distributions"
   ]
  },
  {
   "cell_type": "code",
   "execution_count": 12,
   "metadata": {},
   "outputs": [],
   "source": [
    "# --- Prior ---\n",
    "\n",
    "def prior(cD, cE):\n",
    "    # TODO: Set prior to 0 outside of interval!\n",
    "    prior_dist = stats.norm(0, 5)\n",
    "    p1 = prior_dist.pdf(cD)\n",
    "    p2 = prior_dist.pdf(cE)\n",
    "    prior = np.outer(p2, p1)\n",
    "    return prior\n",
    "\n",
    "# --- Likelihood ---\n",
    "\n",
    "def likelihood(data, my, sigma):\n",
    "    likelihood_dist = stats.norm(my, sigma)\n",
    "    likelihood = likelihood_dist.pdf(data)\n",
    "    return likelihood\n",
    "\n",
    "# --- Posterior ---\n",
    "\n",
    "def posterior(cD, cE, data, my, sigma):\n",
    "    p = prior(cD, cE)*likelihood(data, my, sigma)\n",
    "    norm = np.trapz(np.trapz(p, cE, axis=1), cD)\n",
    "    return p/norm"
   ]
  },
  {
   "cell_type": "markdown",
   "metadata": {},
   "source": [
    "### Estimate model discrepancy"
   ]
  },
  {
   "cell_type": "code",
   "execution_count": 13,
   "metadata": {},
   "outputs": [],
   "source": [
    "# Variance!\n",
    "disc2_E3H = np.power(my_E3H*cbar*np.power(Q,k+1),2)/(1-Q**2)\n",
    "disc2_E4He = np.power(my_E4He*cbar*np.power(Q,k+1),2)/(1-Q**2)\n",
    "disc2_Rp4He = np.power(my_Rp4He*cbar*np.power(Q,k+1),2)/(1-Q**2)\n",
    "disc2_fT3H = np.power(my_fT3H*cbar*np.power(Q,k+1),2)/(1-Q**2)\n",
    "\n",
    "# square root of sum of squared standard error\n",
    "sigma_E3H_efterr=np.sqrt(sigma_E3H**2+disc2_E3H)\n",
    "sigma_E4He_efterr=np.sqrt(sigma_E4He**2+disc2_E4He)\n",
    "sigma_Rp4He_efterr=np.sqrt(sigma_Rp4He**2+disc2_Rp4He)\n",
    "sigma_fT3H_efterr=np.sqrt(sigma_fT3H**2+disc2_fT3H)"
   ]
  },
  {
   "cell_type": "markdown",
   "metadata": {},
   "source": [
    "### Estimate Posterior"
   ]
  },
  {
   "cell_type": "code",
   "execution_count": 14,
   "metadata": {},
   "outputs": [],
   "source": [
    "# Posterior without eft error\n",
    "pE3H_noefterr = posterior(cD, cE, E3H_eval, my=my_E3H, sigma=sigma_E3H)\n",
    "pE4He_noefterr = posterior(cD, cE, E4He_eval, my=my_E4He, sigma=sigma_E4He)\n",
    "pRp4He_noefterr = posterior(cD, cE, Rp4He_eval, my=my_Rp4He, sigma=sigma_Rp4He)\n",
    "pfT3H_noefterr = posterior(cD, cE, fT3H_eval, my=my_fT3H, sigma=sigma_fT3H)\n",
    "\n",
    "# Posterior with eft error\n",
    "pE3H_efterr = posterior(cD, cE, E3H_eval, my=my_E3H, sigma=sigma_E3H_efterr)\n",
    "pE4He_efterr = posterior(cD, cE, E4He_eval, my=my_E4He, sigma=sigma_E4He_efterr)\n",
    "pRp4He_efterr = posterior(cD, cE, Rp4He_eval, my=my_Rp4He, sigma=sigma_Rp4He_efterr)\n",
    "pfT3H_efterr = posterior(cD, cE, fT3H_eval, my=my_fT3H, sigma=sigma_fT3H_efterr)"
   ]
  },
  {
   "cell_type": "markdown",
   "metadata": {},
   "source": [
    "### Find a confidence interval"
   ]
  },
  {
   "cell_type": "code",
   "execution_count": 15,
   "metadata": {},
   "outputs": [],
   "source": [
    "def credibility_interval(data, threshold=0.39):\n",
    "    credibility_interval_width=threshold/2\n",
    "    lb = np.percentile(data, 50 - 100 * credibility_interval_width)\n",
    "    up = np.percentile(data, 50 + 100 * credibility_interval_width)\n",
    "    return [lb, up]\n",
    "\n",
    "def credibility_interval2(data, threshold=0.39):\n",
    "    lb = np.percentile(data, 100 - 100 * threshold)\n",
    "    return [lb, np.max(data)]"
   ]
  },
  {
   "cell_type": "markdown",
   "metadata": {},
   "source": [
    "### Reproduce plot 6a and 6b"
   ]
  },
  {
   "cell_type": "code",
   "execution_count": 16,
   "metadata": {},
   "outputs": [
    {
     "data": {
      "image/png": "[encoded data removed]",
      "text/plain": [
       "<Figure size 640x480 with 1 Axes>"
      ]
     },
     "metadata": {},
     "output_type": "display_data"
    }
   ],
   "source": [
    " # 6a)\n",
    "\n",
    "# E4He_eval: blue\n",
    "# E3H_eval: green\n",
    "# Rp4He_eval: orange\n",
    "# fT3H_eval: grey\n",
    "\n",
    "plt.contourf(cD_eval, cE_eval, pE3H_noefterr, levels=credibility_interval2(pE3H_noefterr, 0.1), colors=\"blue\", antialiased=True)\n",
    "plt.contourf(cD_eval, cE_eval, pE4He_noefterr, levels=credibility_interval2(pE4He_noefterr, 0.01), colors=\"green\", antialiased=True)\n",
    "plt.contourf(cD_eval, cE_eval, pRp4He_noefterr, levels=credibility_interval2(pRp4He_noefterr, 0.1), colors=\"orange\", antialiased=True)\n",
    "plt.contourf(cD_eval, cE_eval, pfT3H_noefterr, levels=credibility_interval2(pfT3H_noefterr, 0.1), colors=\"grey\", antialiased=True)\n",
    "\n",
    "legend_labels = [\n",
    "    mlines.Line2D([], [], color='blue', label='E3H'),\n",
    "    mlines.Line2D([], [], color='green', label='E4He'),\n",
    "    mlines.Line2D([], [], color='orange', label='Rp4He'),\n",
    "    mlines.Line2D([], [], color='grey', label='fT3H')\n",
    "]\n",
    "plt.legend(handles=legend_labels)\n",
    "\n",
    "plt.xlim([-2,2])\n",
    "plt.xticks([-2, -1, 0, 1, 2])\n",
    "plt.xlabel('cD')\n",
    "\n",
    "plt.ylim([-0.75, 0.25])\n",
    "plt.yticks([-0.5, 0])\n",
    "plt.ylabel('cE')\n",
    "\n",
    "# Show the plot\n",
    "plt.show()"
   ]
  },
  {
   "cell_type": "code",
   "execution_count": 17,
   "metadata": {},
   "outputs": [
    {
     "data": {
      "image/png": "[encoded data removed]",
      "text/plain": [
       "<Figure size 640x480 with 1 Axes>"
      ]
     },
     "metadata": {},
     "output_type": "display_data"
    }
   ],
   "source": [
    " # 6b)\n",
    "\n",
    "# E4He_eval: blue\n",
    "# E3H_eval: green\n",
    "# Rp4He_eval: orange\n",
    "# fT3H_eval: grey\n",
    "\n",
    "plt.contourf(cD_eval, cE_eval, pE3H_efterr, levels=credibility_interval2(pE3H_efterr, 0.05), colors=\"blue\", antialiased=True)\n",
    "plt.contourf(cD_eval, cE_eval, pE4He_efterr, levels=credibility_interval2(pE4He_efterr, 0.05), colors=\"green\", antialiased=True)\n",
    "plt.contourf(cD_eval, cE_eval, pRp4He_efterr, levels=credibility_interval2(pRp4He_efterr, 0.05), colors=\"orange\", antialiased=True)\n",
    "plt.contourf(cD_eval, cE_eval, pfT3H_efterr, levels=credibility_interval2(pfT3H_efterr, 0.05), colors=\"grey\", antialiased=True)\n",
    "\n",
    "legend_labels = [\n",
    "    mlines.Line2D([], [], color='blue', label='E3H'),\n",
    "    mlines.Line2D([], [], color='green', label='E4He'),\n",
    "    mlines.Line2D([], [], color='orange', label='Rp4He'),\n",
    "    mlines.Line2D([], [], color='grey', label='fT3H')\n",
    "]\n",
    "plt.legend(handles=legend_labels)\n",
    "\n",
    "plt.xlim([-2,2])\n",
    "plt.xticks([-2, -1, 0, 1, 2])\n",
    "plt.xlabel('cD')\n",
    "\n",
    "plt.ylim([-0.75, 0.25])\n",
    "plt.yticks([-0.5, 0])\n",
    "plt.ylabel('cE')\n",
    "\n",
    "\n",
    "# Show the plot\n",
    "plt.show()"
   ]
  },
  {
   "cell_type": "markdown",
   "metadata": {},
   "source": [
    "---"
   ]
  },
  {
   "cell_type": "markdown",
   "metadata": {},
   "source": [
    "### Questions:"
   ]
  },
  {
   "cell_type": "markdown",
   "metadata": {},
   "source": [
    "- How dense grid can you use given that each model evaluation takes $\\lesssim 1$ ms and you would probably not like to wait more than $\\sim$ minutes?"
   ]
  },
  {
   "cell_type": "code",
   "execution_count": 122,
   "metadata": {},
   "outputs": [],
   "source": [
    "# Assume 1 minute => 60 seconds => 60,000 ms ~ 2^16 => 256x256 dimension"
   ]
  },
  {
   "cell_type": "markdown",
   "metadata": {},
   "source": [
    "- There might be useful utility code in Problem Set 2 for extracting contour levels for a PDF that is evaluated on a grid."
   ]
  },
  {
   "cell_type": "markdown",
   "metadata": {},
   "source": [
    "- How many data points would you naively need to infer two model parameters? If you were to combine the data that you have available, which set do you think works best for this inference problem?"
   ]
  },
  {
   "cell_type": "markdown",
   "metadata": {},
   "source": [
    "## Task 2"
   ]
  },
  {
   "cell_type": "markdown",
   "metadata": {},
   "source": [
    "- Perform the inference using MCMC sampling (for example using the `emcee` package) and two different choices for the combined data likelihood that includes two (or four) observables:\n",
    "  - Case 1: $\\{E(^4\\mathrm{He}), R_p(^4\\mathrm{He})\\}$\n",
    "  - Case 2: $\\{E(^4\\mathrm{He}), R_p(^4\\mathrm{He}), E(^3\\mathrm{H}), fT(^3\\mathrm{H})\\}$\n",
    "- Include the fixed EFT errors that were computed in the previous task.\n",
    "- You can assume that all errors are independent, which implies that the total likelihood is just a product of the individual ones.\n",
    "- Represent the results in a corner plot. I.e., you will basically reproduce the result in Fig. 3 in the paper (which is conditioned on all four observables, i.e., Case 2). Your parameter distribution will be somewhat different partly due to the fixed model discrepancy."
   ]
  },
  {
   "cell_type": "code",
   "execution_count": 56,
   "metadata": {},
   "outputs": [],
   "source": [
    "# --- logprior ---\n",
    "\n",
    "def log_prior(theta):\n",
    "    # TODO: Should we set prior to 0 outside of the feasible interval?\n",
    "    cD, cE = theta\n",
    "    prior_dist = stats.norm(0, 5)\n",
    "    p1 = prior_dist.logpdf(cD)\n",
    "    p2 = prior_dist.logpdf(cE)\n",
    "    logprior = p1+p2\n",
    "    return logprior\n",
    "\n",
    "# --- loglikelihood ---\n",
    "\n",
    "def log_likelihood(ytheo, my, sigma):\n",
    "    loglikelihood_dist = stats.norm(my, sigma)\n",
    "    loglikelihood = loglikelihood_dist.logpdf(ytheo)\n",
    "    return loglikelihood\n",
    "\n",
    "# --- logposterior ---\n",
    "\n",
    "def log_posterior(theta, my, sigma, full=False):\n",
    "    # We can drop the normalization here. Otherwise:\n",
    "    # p = prior(cD, cE)*likelihood(data, my, sigma)\n",
    "    # norm = np.trapz(np.trapz(p, cE, axis=1), cD)\n",
    "    # neglognorm = -np.log(norm)\n",
    "\n",
    "    vfewnucleonEmulator = np.vectorize(fewnucleonEmulator)\n",
    "    E4He_eval, Rp4He_eval, _, _, E3H_eval, _, fT3H_eval = vfewnucleonEmulator(theta[0], theta[1])\n",
    "\n",
    "    if full:\n",
    "        data = [E4He_eval, Rp4He_eval]\n",
    "    else:\n",
    "        data = [E4He_eval, Rp4He_eval, E3H_eval, fT3H_eval]\n",
    "\n",
    "    log_likelihoods = np.array(list(map(log_likelihood, data, my, sigma))).sum(0)\n",
    "    return log_prior(theta)+log_likelihoods"
   ]
  },
  {
   "cell_type": "code",
   "execution_count": 71,
   "metadata": {},
   "outputs": [
    {
     "name": "stdout",
     "output_type": "stream",
     "text": [
      "cD [min,max]:  -2.389551691909216  |  1.9521122589474036\n",
      "cE [min,max]:  -0.7920963272941435  |  0.9611144515194241\n"
     ]
    }
   ],
   "source": [
    "# https://cforssen.gitlab.io/tif285-book/content/BayesianStatistics/MaxEnt/demo-MaxEnt.html\n",
    "# https://prappleizer.github.io/Tutorials/MCMC/MCMC_Tutorial_Solution.html\n",
    "\n",
    "ndim = 2  # number of parameters in the model\n",
    "nwalkers = 20 # number of MCMC walkers\n",
    "nburn = 1000 # 1000  # \"burn-in\" period to let chains stabilize\n",
    "nsteps = 1000 # 10000  # number of MCMC steps to take\n",
    "\n",
    "np.random.seed(2023)\n",
    "cD_start = 5 * np.random.rand(nwalkers,1) - 2.5\n",
    "cE_start = 2 * np.random.rand(nwalkers,1) - 1\n",
    "print(\"cD [min,max]: \", np.min(cD_start), \" | \", np.max(cD_start))\n",
    "print(\"cE [min,max]: \", np.min(cE_start), \" | \", np.max(cE_start))\n",
    "starting_guesses = np.array(list(zip(cD_start,cE_start))).squeeze()\n",
    "\n",
    "dataset1 = [[my_E4He, my_Rp4He], \n",
    "            [sigma_E4He_efterr, sigma_Rp4He_efterr],\n",
    "            False]\n",
    "\n",
    "dataset2 = [[my_E4He, my_Rp4He, my_E3H, my_fT3H], \n",
    "            [sigma_E4He_efterr, sigma_Rp4He_efterr, sigma_E3H_efterr, sigma_fT3H_efterr],\n",
    "            True]"
   ]
  },
  {
   "cell_type": "code",
   "execution_count": 72,
   "metadata": {},
   "outputs": [],
   "source": [
    "def mcmc(starting_guesses,nwalkers,nsteps,nburn,ndim,lnprob,data):\n",
    "    sampler = emcee.EnsembleSampler(nwalkers, ndim, lnprob, args=data)\n",
    "\n",
    "    print(\"Start burn-in:\")\n",
    "    theta, _, _ = sampler.run_mcmc(starting_guesses, nburn, progress=True)\n",
    "    sampler.reset()\n",
    "\n",
    "    print(\"Start sampling:\")\n",
    "    pos, prob, state = sampler.run_mcmc(theta, nsteps, progress=True)\n",
    "\n",
    "    return sampler, pos, prob, state"
   ]
  },
  {
   "cell_type": "code",
   "execution_count": 73,
   "metadata": {},
   "outputs": [
    {
     "name": "stdout",
     "output_type": "stream",
     "text": [
      "Start burn-in:\n"
     ]
    },
    {
     "name": "stderr",
     "output_type": "stream",
     "text": [
      "100%|██████████| 1000/1000 [01:51<00:00,  9.00it/s]\n"
     ]
    },
    {
     "name": "stdout",
     "output_type": "stream",
     "text": [
      "Start sampling:\n"
     ]
    },
    {
     "name": "stderr",
     "output_type": "stream",
     "text": [
      "100%|██████████| 1000/1000 [01:47<00:00,  9.29it/s]\n"
     ]
    }
   ],
   "source": [
    "# Runtime ~ 1 minute\n",
    "sampler, _, _, _ = mcmc(starting_guesses=starting_guesses,\n",
    "                   nwalkers=nwalkers,\n",
    "                   nsteps=nsteps,\n",
    "                   nburn=nburn,\n",
    "                   ndim=ndim,\n",
    "                   lnprob=log_posterior,\n",
    "                   data=dataset2)"
   ]
  },
  {
   "cell_type": "code",
   "execution_count": 74,
   "metadata": {},
   "outputs": [
    {
     "name": "stdout",
     "output_type": "stream",
     "text": [
      "(20000,)\n"
     ]
    },
    {
     "data": {
      "text/plain": [
       "(array([  47.,  271., 1193., 3352., 5326., 5116., 3204., 1099.,  323.,\n",
       "          69.]),\n",
       " array([-1.96822441, -1.66887662, -1.36952883, -1.07018105, -0.77083326,\n",
       "        -0.47148548, -0.17213769,  0.1272101 ,  0.42655788,  0.72590567,\n",
       "         1.02525345]),\n",
       " [<matplotlib.patches.Polygon at 0x19aba1cb110>])"
      ]
     },
     "execution_count": 74,
     "metadata": {},
     "output_type": "execute_result"
    },
    {
     "data": {
      "image/png": "[encoded data removed]",
      "text/plain": [
       "<Figure size 640x480 with 1 Axes>"
      ]
     },
     "metadata": {},
     "output_type": "display_data"
    }
   ],
   "source": [
    "samples = sampler.get_chain(flat=True)\n",
    "print(samples[:,1].shape)\n",
    "plt.hist(samples[:,1], color=\"k\", histtype=\"step\")"
   ]
  },
  {
   "cell_type": "markdown",
   "metadata": {},
   "source": [
    "* Define functions for the `log_prior`, the `log_likelihood` and the `log_posterior`. The latter is provided as input to the `emcee` sampler. Note that the likelihood (and therefore the posterior) will depend on the choice of data set.\n",
    "* Operating with log probabilities, the product of independent ones turns into a simple sum.\n",
    "* `scipy.stats` provides a useful library for working with continuous variable distributions and for evaluating `logpdf`.\n",
    "* It is probably worthwhile to test your `log_posterior` function before starting the MCMC sampling. \n",
    "* Consider beforehand how many samples you can afford to collect.\n",
    "* The `show_titles=True` option to `corner` will show central results and one-$\\sigma$ error limits on the projected posterior plots.\n",
    "* The `quantiles=[0.16, 0.5, 0.84]`option to corner adds the dashed vertical lines to the marginal posteriors on the diagonal. You can obviously change the quantiles if you want another credibility region.\n",
    "* The python command `np.percentile(y, [16, 50, 84], axis=0)` might be useful to extract numerical values for the credibility region and the median from a python array `y`."
   ]
  },
  {
   "cell_type": "markdown",
   "metadata": {},
   "source": [
    "### Reproduce corner plot in figure 3"
   ]
  },
  {
   "cell_type": "code",
   "execution_count": 86,
   "metadata": {},
   "outputs": [
    {
     "data": {
      "image/png": "[encoded data removed]",
      "text/plain": [
       "<Figure size 550x550 with 4 Axes>"
      ]
     },
     "metadata": {},
     "output_type": "display_data"
    }
   ],
   "source": [
    "labels = [\"cD\", \"cE\"]\n",
    "\n",
    "# Create a corner plot\n",
    "figure = corner.corner(samples, labels=labels, show_titles=True)\n",
    "\n",
    "confidence_level = 0.86\n",
    "quantiles = [(1 - confidence_level) / 2, 1 - (1 - confidence_level) / 2]\n",
    "quantiles = [0.16, 0.5, 0.84]\n",
    "quantile_values = np.quantile(samples, quantiles, axis=0)\n",
    "\n",
    "# Plot vertical lines for the confidence interval\n",
    "for i, ax in enumerate(figure.get_axes()):\n",
    "    if i==0:\n",
    "        # Top left\n",
    "        ax.axvline(0, color='grey', linestyle='-', linewidth=1)\n",
    "        ax.axvline(quantile_values[0, 0], color='red', linestyle='--', linewidth=2)\n",
    "        ax.axvline(quantile_values[2, 0], color='red', linestyle='--', linewidth=2)\n",
    "    if i==2:\n",
    "        # Bottom left\n",
    "        ax.axvline(0, color='grey', linestyle='-', linewidth=1)\n",
    "        ax.axhline(0, color='grey', linestyle='-', linewidth=1)\n",
    "        ax.set_xlim([-2, 2])  # Set the x-axis limits to [-2, 2]\n",
    "        ax.set_ylim([-0.6, 0.2])\n",
    "    if i==3:\n",
    "        # Bottom right\n",
    "        ax.axvline(0, color='grey', linestyle='-', linewidth=1)\n",
    "        ax.axvline(quantile_values[0, 1], color='red', linestyle='--', linewidth=2)\n",
    "        ax.axvline(quantile_values[2, 1], color='red', linestyle='--', linewidth=2)\n",
    "\n",
    "\n",
    "# Show the plot\n",
    "plt.show()"
   ]
  },
  {
   "cell_type": "markdown",
   "metadata": {},
   "source": [
    "## Task 3"
   ]
  }
 ],
 "metadata": {
  "kernelspec": {
   "display_name": "lfd",
   "language": "python",
   "name": "python3"
  },
  "language_info": {
   "codemirror_mode": {
    "name": "ipython",
    "version": 3
   },
   "file_extension": ".py",
   "mimetype": "text/x-python",
   "name": "python",
   "nbconvert_exporter": "python",
   "pygments_lexer": "ipython3",
   "version": "3.11.5"
  },
  "orig_nbformat": 4
 },
 "nbformat": 4,
 "nbformat_minor": 2
}
