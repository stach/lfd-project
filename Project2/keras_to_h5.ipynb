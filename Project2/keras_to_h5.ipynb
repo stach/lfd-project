{
 "cells": [
  {
   "cell_type": "code",
   "execution_count": 1,
   "id": "f743770b-0e74-4875-a301-f710eb391680",
   "metadata": {},
   "outputs": [
    {
     "name": "stderr",
     "output_type": "stream",
     "text": [
      "2023-10-22 09:40:40.308898: I tensorflow/tsl/cuda/cudart_stub.cc:28] Could not find cuda drivers on your machine, GPU will not be used.\n",
      "2023-10-22 09:40:41.373739: I tensorflow/tsl/cuda/cudart_stub.cc:28] Could not find cuda drivers on your machine, GPU will not be used.\n",
      "2023-10-22 09:40:43.913871: W tensorflow/compiler/tf2tensorrt/utils/py_utils.cc:38] TF-TRT Warning: Could not find TensorRT\n"
     ]
    }
   ],
   "source": [
    "import tensorflow as tf\n",
    "from tensorflow import keras"
   ]
  },
  {
   "cell_type": "code",
   "execution_count": 4,
   "id": "169495ac-dc34-48ab-b575-5896710643f9",
   "metadata": {},
   "outputs": [],
   "source": [
    "# Suggested structure of the custom loss function\n",
    "tlist = ... # Which will be used in the custom loss\n",
    "\n",
    "@keras.saving.register_keras_serializable()\n",
    "def custom_loss(y, y_pred):\n",
    "    \"\"\"\n",
    "    A custom loss function computing error in energy conservation.\n",
    "    \"\"\"\n",
    "\n",
    "    # is there a better way?\n",
    "    t = tf.convert_to_tensor(np.linspace(X_train[0,0,0], X_train[0,-1,0], X_train[0,:,0].size).reshape(-1,1), dtype = tf.float32)\n",
    "    \n",
    "    predicted_positions = get_trajectories(y_pred) # Obtained from y_pred\n",
    "    predicted_velocities = tf_compute_velocities(t, predicted_positions) # Obtained from predicted_positions, tlist\n",
    "\n",
    "    initial_potential_energy = tf_compute_potential_energy(*get_trajectories(y)) # Obtained from positions (y)\n",
    "\n",
    "    ke_predicted_trajectory = tf_compute_kinetic_energy(predicted_velocities) # Obtained from predicted_velocities\n",
    "    pe_predicted_trajectory = tf_compute_potential_energy(*predicted_positions) # Obtained from predicted_positions\n",
    "\n",
    "    energy_error = (ke_predicted_trajectory + pe_predicted_trajectory -\n",
    "                     initial_potential_energy)\n",
    "\n",
    "    energy_loss = tf.reduce_mean(tf.abs(energy_error))\n",
    "    # The relative weight ofthe two terms in the custom loss might be tuned.\n",
    "    return tf.keras.losses.MeanAbsoluteError()(y, y_pred) + 0.001*tf.clip_by_value(energy_error, -1e6, 1e6)"
   ]
  },
  {
   "cell_type": "code",
   "execution_count": 7,
   "id": "21ea08fb-ae7e-467d-a975-a8506b178fd3",
   "metadata": {},
   "outputs": [
    {
     "name": "stderr",
     "output_type": "stream",
     "text": [
      "/home/mhuebl/miniconda3/envs/tif285-env/lib/python3.8/site-packages/keras/src/engine/training.py:3000: UserWarning: You are saving your model as an HDF5 file via `model.save()`. This file format is considered legacy. We recommend using instead the native Keras format, e.g. `model.save('my_model.keras')`.\n",
      "  saving_api.save_model(\n"
     ]
    }
   ],
   "source": [
    "# Insert the name of the model you want to load\n",
    "model_names = [\"1910_2119_final\", \"Eloss_1910_0850_final\"]\n",
    "for model_name in model_names:\n",
    "    model = keras.models.load_model(f\"./models/NN_project2_{model_name}.keras\")\n",
    "    model.save(f\"./models/NN_project2_{model_name}.h5\")"
   ]
  },
  {
   "cell_type": "code",
   "execution_count": null,
   "id": "a9d4be17-6519-4fc3-a031-4ec7f58d1eb4",
   "metadata": {},
   "outputs": [],
   "source": []
  }
 ],
 "metadata": {
  "kernelspec": {
   "display_name": "Python 3 (ipykernel)",
   "language": "python",
   "name": "python3"
  },
  "language_info": {
   "codemirror_mode": {
    "name": "ipython",
    "version": 3
   },
   "file_extension": ".py",
   "mimetype": "text/x-python",
   "name": "python",
   "nbconvert_exporter": "python",
   "pygments_lexer": "ipython3",
   "version": "3.8.18"
  }
 },
 "nbformat": 4,
 "nbformat_minor": 5
}
